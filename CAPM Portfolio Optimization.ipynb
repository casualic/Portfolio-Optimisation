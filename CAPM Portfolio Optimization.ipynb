{
 "cells": [
  {
   "cell_type": "markdown",
   "id": "ad9851a7",
   "metadata": {},
   "source": [
    "# CAPM and Efficient frontier portfolio optimisation"
   ]
  },
  {
   "cell_type": "markdown",
   "id": "427dda41",
   "metadata": {},
   "source": [
    "In this project we will look for optimal equity portfolio mixes, given a set of specifiad asses, to create a mix that maximizes different investment objectives (Returns, Risk, Sharpe Ratio). We will utilise the assumptions included in Moden Portfolio Theory to generate the base CAPM model. "
   ]
  },
  {
   "cell_type": "markdown",
   "id": "0c02a341",
   "metadata": {},
   "source": [
    "In order to achieve this, we will aim to follow the flow below:"
   ]
  },
  {
   "cell_type": "markdown",
   "id": "65a41eea",
   "metadata": {},
   "source": [
    "1. Retrieve the data from the desired list of portfolio assets\n",
    "2. Generate a random set of Portfolio (i.e random asset allocation mixes)\n",
    "3. Generate a plot of risk and return combinations for the portfolios generated\n",
    "4. Find the optimal mix for maximizing the given objective, based on the generated Portfolio population"
   ]
  },
  {
   "cell_type": "markdown",
   "id": "3625862a",
   "metadata": {},
   "source": [
    "## Setting and retrieving the data\n",
    "For this excercise we will arbitrarily select 4 different tech stocks.\n",
    "1. Google (GOOGL)\n",
    "2. Tencent (TCEHY)\n",
    "3. AMD (AMD)\n",
    "4. Qualcomm (QCOM)\n",
    "\n",
    "We will take bi-annual the data between:  \n",
    "04/01/2019 - 04/01/2021\n",
    "\n",
    "To retrieve the data we can utilise the pandas web module to fetch Market Close prices for the portfolio.\n",
    "\n",
    "The data source will be Yahoo (as it is an easily accessible free online source) and the price will be the Adjusted Close Price."
   ]
  },
  {
   "cell_type": "code",
   "execution_count": 1,
   "id": "913d656c",
   "metadata": {},
   "outputs": [],
   "source": [
    "import pandas_datareader as web\n",
    "import pandas as pd\n",
    "import numpy as np\n",
    "\n",
    "data = {}\n",
    "\n",
    "#tickers = ['GOOGL', 'TCEHY', 'AMD','QCOM']\n",
    "#\n",
    "tickers = ['GOOGL', 'TM', 'KO', 'PEP']\n",
    "\n",
    "numAssets = len(tickers) #Stores the number of assets in the list\n",
    "\n",
    "#for symbol in tickers:\n",
    "#    data[symbol] = web.DataReader(symbol, data_source = 'yahoo', start = '2019-04-01', end = '2021-04-01')['Adj Close']\n",
    "for symbol in tickers:\n",
    "    data[symbol] = web.DataReader(symbol, data_source = 'yahoo', start = '2010-01-01', end = '2015-10-30')['Adj Close']"
   ]
  },
  {
   "cell_type": "markdown",
   "id": "33c207e7",
   "metadata": {},
   "source": [
    "Now that we have the pricing data stored in the *data* dicionary, we perform the calucaltion for the mean, variance and covariance to arrive at the base parameters for simulation.\n",
    "\n",
    "Note: we add a *dur* variable, as we will be working in monthly return space, whereas the data fetched is daily. This allows us to take every 20-th business day (which will be one of our assumptions)."
   ]
  },
  {
   "cell_type": "code",
   "execution_count": 2,
   "id": "cc9e4c31",
   "metadata": {},
   "outputs": [],
   "source": [
    "data_frame = pd.DataFrame.from_dict(data)"
   ]
  },
  {
   "cell_type": "code",
   "execution_count": 30,
   "id": "25b1b388",
   "metadata": {},
   "outputs": [
    {
     "data": {
      "text/html": [
       "<div>\n",
       "<style scoped>\n",
       "    .dataframe tbody tr th:only-of-type {\n",
       "        vertical-align: middle;\n",
       "    }\n",
       "\n",
       "    .dataframe tbody tr th {\n",
       "        vertical-align: top;\n",
       "    }\n",
       "\n",
       "    .dataframe thead th {\n",
       "        text-align: right;\n",
       "    }\n",
       "</style>\n",
       "<table border=\"1\" class=\"dataframe\">\n",
       "  <thead>\n",
       "    <tr style=\"text-align: right;\">\n",
       "      <th></th>\n",
       "      <th>GOOGL</th>\n",
       "      <th>TM</th>\n",
       "      <th>KO</th>\n",
       "      <th>PEP</th>\n",
       "    </tr>\n",
       "    <tr>\n",
       "      <th>Date</th>\n",
       "      <th></th>\n",
       "      <th></th>\n",
       "      <th></th>\n",
       "      <th></th>\n",
       "    </tr>\n",
       "  </thead>\n",
       "  <tbody>\n",
       "    <tr>\n",
       "      <th>2010-01-04</th>\n",
       "      <td>313.688690</td>\n",
       "      <td>72.314583</td>\n",
       "      <td>20.098238</td>\n",
       "      <td>43.941441</td>\n",
       "    </tr>\n",
       "    <tr>\n",
       "      <th>2010-02-02</th>\n",
       "      <td>265.825836</td>\n",
       "      <td>66.449860</td>\n",
       "      <td>19.397055</td>\n",
       "      <td>43.876858</td>\n",
       "    </tr>\n",
       "    <tr>\n",
       "      <th>2010-03-03</th>\n",
       "      <td>272.932922</td>\n",
       "      <td>65.395905</td>\n",
       "      <td>19.002419</td>\n",
       "      <td>46.233562</td>\n",
       "    </tr>\n",
       "    <tr>\n",
       "      <th>2010-03-31</th>\n",
       "      <td>283.843842</td>\n",
       "      <td>68.955505</td>\n",
       "      <td>19.538046</td>\n",
       "      <td>47.808884</td>\n",
       "    </tr>\n",
       "    <tr>\n",
       "      <th>2010-04-29</th>\n",
       "      <td>266.266266</td>\n",
       "      <td>66.974808</td>\n",
       "      <td>19.090450</td>\n",
       "      <td>47.115166</td>\n",
       "    </tr>\n",
       "    <tr>\n",
       "      <th>...</th>\n",
       "      <td>...</td>\n",
       "      <td>...</td>\n",
       "      <td>...</td>\n",
       "      <td>...</td>\n",
       "    </tr>\n",
       "    <tr>\n",
       "      <th>2015-06-29</th>\n",
       "      <td>541.250000</td>\n",
       "      <td>126.288643</td>\n",
       "      <td>32.633152</td>\n",
       "      <td>79.052788</td>\n",
       "    </tr>\n",
       "    <tr>\n",
       "      <th>2015-07-28</th>\n",
       "      <td>659.659973</td>\n",
       "      <td>125.707016</td>\n",
       "      <td>33.585648</td>\n",
       "      <td>81.094719</td>\n",
       "    </tr>\n",
       "    <tr>\n",
       "      <th>2015-08-25</th>\n",
       "      <td>612.469971</td>\n",
       "      <td>108.096222</td>\n",
       "      <td>31.465321</td>\n",
       "      <td>75.635521</td>\n",
       "    </tr>\n",
       "    <tr>\n",
       "      <th>2015-09-23</th>\n",
       "      <td>653.289978</td>\n",
       "      <td>112.043640</td>\n",
       "      <td>32.381203</td>\n",
       "      <td>78.569107</td>\n",
       "    </tr>\n",
       "    <tr>\n",
       "      <th>2015-10-21</th>\n",
       "      <td>671.799988</td>\n",
       "      <td>119.588501</td>\n",
       "      <td>35.246723</td>\n",
       "      <td>85.244080</td>\n",
       "    </tr>\n",
       "  </tbody>\n",
       "</table>\n",
       "<p>74 rows × 4 columns</p>\n",
       "</div>"
      ],
      "text/plain": [
       "                 GOOGL          TM         KO        PEP\n",
       "Date                                                    \n",
       "2010-01-04  313.688690   72.314583  20.098238  43.941441\n",
       "2010-02-02  265.825836   66.449860  19.397055  43.876858\n",
       "2010-03-03  272.932922   65.395905  19.002419  46.233562\n",
       "2010-03-31  283.843842   68.955505  19.538046  47.808884\n",
       "2010-04-29  266.266266   66.974808  19.090450  47.115166\n",
       "...                ...         ...        ...        ...\n",
       "2015-06-29  541.250000  126.288643  32.633152  79.052788\n",
       "2015-07-28  659.659973  125.707016  33.585648  81.094719\n",
       "2015-08-25  612.469971  108.096222  31.465321  75.635521\n",
       "2015-09-23  653.289978  112.043640  32.381203  78.569107\n",
       "2015-10-21  671.799988  119.588501  35.246723  85.244080\n",
       "\n",
       "[74 rows x 4 columns]"
      ]
     },
     "execution_count": 30,
     "metadata": {},
     "output_type": "execute_result"
    }
   ],
   "source": [
    "dur = 20 #Since we want to work with monthly, rather than daily returns. Assuming \n",
    "data = data_frame\n",
    "data = data[::dur]\n",
    "data"
   ]
  },
  {
   "cell_type": "code",
   "execution_count": 31,
   "id": "56669b4e",
   "metadata": {},
   "outputs": [
    {
     "data": {
      "text/html": [
       "<div>\n",
       "<style scoped>\n",
       "    .dataframe tbody tr th:only-of-type {\n",
       "        vertical-align: middle;\n",
       "    }\n",
       "\n",
       "    .dataframe tbody tr th {\n",
       "        vertical-align: top;\n",
       "    }\n",
       "\n",
       "    .dataframe thead th {\n",
       "        text-align: right;\n",
       "    }\n",
       "</style>\n",
       "<table border=\"1\" class=\"dataframe\">\n",
       "  <thead>\n",
       "    <tr style=\"text-align: right;\">\n",
       "      <th></th>\n",
       "      <th>GOOGL</th>\n",
       "      <th>TM</th>\n",
       "      <th>KO</th>\n",
       "      <th>PEP</th>\n",
       "    </tr>\n",
       "    <tr>\n",
       "      <th>Date</th>\n",
       "      <th></th>\n",
       "      <th></th>\n",
       "      <th></th>\n",
       "      <th></th>\n",
       "    </tr>\n",
       "  </thead>\n",
       "  <tbody>\n",
       "    <tr>\n",
       "      <th>2010-01-04</th>\n",
       "      <td>NaN</td>\n",
       "      <td>NaN</td>\n",
       "      <td>NaN</td>\n",
       "      <td>NaN</td>\n",
       "    </tr>\n",
       "    <tr>\n",
       "      <th>2010-02-02</th>\n",
       "      <td>-0.165560</td>\n",
       "      <td>-0.084578</td>\n",
       "      <td>-0.035511</td>\n",
       "      <td>-0.001471</td>\n",
       "    </tr>\n",
       "    <tr>\n",
       "      <th>2010-03-03</th>\n",
       "      <td>0.026385</td>\n",
       "      <td>-0.015988</td>\n",
       "      <td>-0.020555</td>\n",
       "      <td>0.052319</td>\n",
       "    </tr>\n",
       "    <tr>\n",
       "      <th>2010-03-31</th>\n",
       "      <td>0.039198</td>\n",
       "      <td>0.053002</td>\n",
       "      <td>0.027797</td>\n",
       "      <td>0.033505</td>\n",
       "    </tr>\n",
       "    <tr>\n",
       "      <th>2010-04-29</th>\n",
       "      <td>-0.063927</td>\n",
       "      <td>-0.029145</td>\n",
       "      <td>-0.023175</td>\n",
       "      <td>-0.014617</td>\n",
       "    </tr>\n",
       "    <tr>\n",
       "      <th>...</th>\n",
       "      <td>...</td>\n",
       "      <td>...</td>\n",
       "      <td>...</td>\n",
       "      <td>...</td>\n",
       "    </tr>\n",
       "    <tr>\n",
       "      <th>2015-06-29</th>\n",
       "      <td>-0.014600</td>\n",
       "      <td>-0.035526</td>\n",
       "      <td>-0.030126</td>\n",
       "      <td>-0.016698</td>\n",
       "    </tr>\n",
       "    <tr>\n",
       "      <th>2015-07-28</th>\n",
       "      <td>0.197843</td>\n",
       "      <td>-0.004616</td>\n",
       "      <td>0.028770</td>\n",
       "      <td>0.025502</td>\n",
       "    </tr>\n",
       "    <tr>\n",
       "      <th>2015-08-25</th>\n",
       "      <td>-0.074225</td>\n",
       "      <td>-0.150932</td>\n",
       "      <td>-0.065213</td>\n",
       "      <td>-0.069692</td>\n",
       "    </tr>\n",
       "    <tr>\n",
       "      <th>2015-09-23</th>\n",
       "      <td>0.064521</td>\n",
       "      <td>0.035867</td>\n",
       "      <td>0.028692</td>\n",
       "      <td>0.038053</td>\n",
       "    </tr>\n",
       "    <tr>\n",
       "      <th>2015-10-21</th>\n",
       "      <td>0.027940</td>\n",
       "      <td>0.065168</td>\n",
       "      <td>0.084794</td>\n",
       "      <td>0.081540</td>\n",
       "    </tr>\n",
       "  </tbody>\n",
       "</table>\n",
       "<p>74 rows × 4 columns</p>\n",
       "</div>"
      ],
      "text/plain": [
       "               GOOGL        TM        KO       PEP\n",
       "Date                                              \n",
       "2010-01-04       NaN       NaN       NaN       NaN\n",
       "2010-02-02 -0.165560 -0.084578 -0.035511 -0.001471\n",
       "2010-03-03  0.026385 -0.015988 -0.020555  0.052319\n",
       "2010-03-31  0.039198  0.053002  0.027797  0.033505\n",
       "2010-04-29 -0.063927 -0.029145 -0.023175 -0.014617\n",
       "...              ...       ...       ...       ...\n",
       "2015-06-29 -0.014600 -0.035526 -0.030126 -0.016698\n",
       "2015-07-28  0.197843 -0.004616  0.028770  0.025502\n",
       "2015-08-25 -0.074225 -0.150932 -0.065213 -0.069692\n",
       "2015-09-23  0.064521  0.035867  0.028692  0.038053\n",
       "2015-10-21  0.027940  0.065168  0.084794  0.081540\n",
       "\n",
       "[74 rows x 4 columns]"
      ]
     },
     "execution_count": 31,
     "metadata": {},
     "output_type": "execute_result"
    }
   ],
   "source": [
    "# Log Returns\n",
    "\n",
    "returns = np.log(data/data.shift(1))\n",
    "returns"
   ]
  },
  {
   "cell_type": "code",
   "execution_count": 32,
   "id": "a7a128d3",
   "metadata": {},
   "outputs": [
    {
     "data": {
      "text/plain": [
       "(GOOGL    0.010432\n",
       " TM       0.006891\n",
       " KO       0.007695\n",
       " PEP      0.009078\n",
       " dtype: float64,\n",
       "           GOOGL        TM        KO       PEP\n",
       " GOOGL  0.005022  0.000913  0.000870  0.000528\n",
       " TM     0.000913  0.003332  0.000514  0.000663\n",
       " KO     0.000870  0.000514  0.001451  0.000868\n",
       " PEP    0.000528  0.000663  0.000868  0.001238)"
      ]
     },
     "execution_count": 32,
     "metadata": {},
     "output_type": "execute_result"
    }
   ],
   "source": [
    "#Calculate the parameters mean returns and covariance between the stocks\n",
    "meanDailyReturns = returns.mean()\n",
    "covMatrix = returns.cov()\n",
    "meanDailyReturns, covMatrix"
   ]
  },
  {
   "cell_type": "markdown",
   "id": "6ab36dfa",
   "metadata": {},
   "source": [
    "## Evaluating risk-return profile for a given portfolio"
   ]
  },
  {
   "cell_type": "markdown",
   "id": "986dfbf7",
   "metadata": {},
   "source": [
    "If we want to calcualte the risk return profile for a set of given weight, we can apply the calucalted parameters"
   ]
  },
  {
   "cell_type": "code",
   "execution_count": 33,
   "id": "dbe4a766",
   "metadata": {},
   "outputs": [],
   "source": [
    "#Calculate expected portfolio performance\n",
    "weights = [0.5, 0.2, 0.2, 0.1]\n",
    "portReturn = np.sum( meanDailyReturns*weights )\n",
    "portStdDev = np.sqrt(np.dot(weights, np.dot(covMatrix, weights)))"
   ]
  },
  {
   "cell_type": "code",
   "execution_count": 34,
   "id": "a81cecc8",
   "metadata": {},
   "outputs": [
    {
     "name": "stdout",
     "output_type": "stream",
     "text": [
      "The daily  return profile is 0.009041097809964682  The daily STDev of the portfolio is 0.04439354046341765\n"
     ]
    }
   ],
   "source": [
    "print('The daily  return profile is ' + str(portReturn), ' The daily STDev of the portfolio is ' + str(portStdDev))"
   ]
  },
  {
   "cell_type": "markdown",
   "id": "65cebf80",
   "metadata": {},
   "source": [
    "We now turn our heads into optimizing the portfolio itself. We have generated a risk-reutnr profile for an individdually selected weight of the set of assets , however in order to find an optimal mix we will look to Monte-Carlo simulation to generate sets of portfolios."
   ]
  },
  {
   "cell_type": "markdown",
   "id": "c333c9f0",
   "metadata": {},
   "source": [
    "## Monte Carlo Method to optimizing a portfolio\n",
    "In this section we will generate sets of protflio, with our 4 selected assets. Once genreated, we will observe the efficient frontier and find portfolio that optimize our objective. "
   ]
  },
  {
   "cell_type": "code",
   "execution_count": 35,
   "id": "d0c24958",
   "metadata": {},
   "outputs": [],
   "source": [
    "#Creating an empty list of lists to store our results for Daily Returns, Annual Returns and Sharpe Ratios, for 2500 simulations\n",
    "numPortfolios = 25000\n",
    "results = np.zeros((3, numPortfolios))"
   ]
  },
  {
   "cell_type": "markdown",
   "id": "e355c1ee",
   "metadata": {},
   "source": [
    "We first define a function that caluclate the return, volatility and covariance matrix for a gien portfolio (as done previously)m so that we can apply it for a larger set of potrfolios in a loop."
   ]
  },
  {
   "cell_type": "code",
   "execution_count": 36,
   "id": "d800f233",
   "metadata": {},
   "outputs": [],
   "source": [
    "def calcPortfolioPerf(weights, meanReturns, covMatrix):\n",
    "\n",
    "    #Calculate return and variance\n",
    "    portReturn = np.sum( meanReturns*weights )\n",
    "    portStdDev = np.sqrt(np.dot(weights.T, np.dot(covMatrix, weights)))\n",
    "\n",
    "    return portReturn, portStdDev"
   ]
  },
  {
   "cell_type": "markdown",
   "id": "3f0427ec",
   "metadata": {},
   "source": [
    "We then randomly generate portfolio weights and calcualte the parameters using the defined function. Note that the return and volatility is annualized. We perform 2500 simulations."
   ]
  },
  {
   "cell_type": "code",
   "execution_count": 37,
   "id": "3b72d193",
   "metadata": {},
   "outputs": [],
   "source": [
    "meanDailyReturns = returns.mean()\n",
    "covMatrix = returns.cov()\n",
    "numPeriodsAnnually = 252\n",
    "\n",
    "dur = 20 # we divide the data population and \n",
    "numPeriodsAnnually = 252.0 / dur\n",
    "riskFreeRate = 0.0021 # Baseds onj 16 year treasury rate as of 2021-04-14, Source: YCharts\n",
    "\n",
    "for i in range(numPortfolios):\n",
    "    #Draw numAssets random numbers from a uniform distribution and normalize them to be the portfolio weights\n",
    "    weights = np.random.random(numAssets)\n",
    "    weights /= np.sum(weights)\n",
    "    \n",
    "    \n",
    "    #Calculate expected return and volatility of portfolio\n",
    "    pret, pvar = calcPortfolioPerf(weights, meanDailyReturns, covMatrix)\n",
    "\n",
    "    #Convert results to annual basis, calculate Sharpe Ratio, and store them\n",
    "    results[0,i] = pret*numPeriodsAnnually\n",
    "    results[1,i] = pvar*np.sqrt(numPeriodsAnnually)\n",
    "    results[2,i] = (results[0,i] - riskFreeRate)/results[1,i]"
   ]
  },
  {
   "cell_type": "markdown",
   "id": "8e64b8ad",
   "metadata": {},
   "source": [
    "Now Plotting the simulation results:"
   ]
  },
  {
   "cell_type": "code",
   "execution_count": 38,
   "id": "7928b8c5",
   "metadata": {
    "scrolled": true
   },
   "outputs": [
    {
     "data": {
      "image/png": "[encoded data removed]",
      "text/plain": [
       "<Figure size 432x288 with 2 Axes>"
      ]
     },
     "metadata": {
      "needs_background": "light"
     },
     "output_type": "display_data"
    }
   ],
   "source": [
    "import matplotlib.pyplot as plt\n",
    "import matplotlib.cm\n",
    "from collections import OrderedDict\n",
    "\n",
    "plt.set_cmap('viridis')\n",
    "plt.scatter(results[1,:], results[0,:], c=results[2,:], marker='o', cmap = 'viridis')\n",
    "\n",
    "plt.grid(True)\n",
    "plt.xlabel('Expected Volatility')\n",
    "plt.ylabel('Expected Return')\n",
    "plt.colorbar(label='Sharpe Ratio')\n",
    "plt.title('Portfolios of Many Assets')\n",
    "plt.tight_layout()\n",
    "plt.savefig('Monte Carlo Simulation for Portfolio', dpi=100)\n",
    "\n"
   ]
  },
  {
   "cell_type": "markdown",
   "id": "5359aaa9",
   "metadata": {},
   "source": [
    "The above plot shows the reisk-return profiles for the 2500 simualted portfolios.\n",
    "Now that we we have genrated these profiles, we turn our heads to optimization, i.e we will be looking at which portfolio mix in the gnerated set offers the best risk-reward profile. Futher, given the simulated set, we will look at choosing a portfolio that Maximiez our Sharp Ratio and Minimizes our Risk. \n"
   ]
  },
  {
   "cell_type": "markdown",
   "id": "d1517f28",
   "metadata": {},
   "source": [
    "# Portfolio Optimization"
   ]
  },
  {
   "cell_type": "markdown",
   "id": "c31c3b3a",
   "metadata": {},
   "source": [
    "Based on the insights from Figure 1, it is evident that a target return can be achieved with a wide range of risk levels. This introduces the concept of the “Efficient Frontier.” The Efficient Frontier is the set of portfolios that achieve a given return with the minimum amount of risk for that return. On the graph, it is the left most boundary that the scatter population projects."
   ]
  },
  {
   "cell_type": "markdown",
   "id": "96009487",
   "metadata": {},
   "source": [
    "To simplify the Sharpe ratio operation, we define an additional function to compute the Sharpe ratio, rather than specifying it seperately in the loop"
   ]
  },
  {
   "cell_type": "code",
   "execution_count": 39,
   "id": "0e3e426c",
   "metadata": {},
   "outputs": [],
   "source": [
    "def SharpeRatio(weights, meanReturns, covMatrix, riskFreeRate):\n",
    "    '''\n",
    "    Returns the Sharpe Ratio for the speicified portfolio of assets\n",
    "\n",
    "    INPUT\n",
    "    weights: array specifying the weight of each asset in the portfolio\n",
    "    meanReturns: mean values of each asset's returns\n",
    "    covMatrix: covariance of each asset in the portfolio\n",
    "    riskFreeRate: time value of money\n",
    "    '''\n",
    "    p_ret, p_var = calcPortfolioPerf(weights, meanReturns, covMatrix)\n",
    "\n",
    "    return (p_ret - riskFreeRate) / p_var\n",
    "\n",
    "def negSharpeRatio(weights, meanReturns, covMatrix, riskFreeRate):\n",
    "    negSharp = SharpeRatio(weights, meanReturns, covMatrix, riskFreeRate)*(-1)\n",
    "    #Flips the sharpe ratio so that It can be utilised in the SciPy minimzation function\n",
    "    return negSharp"
   ]
  },
  {
   "cell_type": "markdown",
   "id": "0f4d760a",
   "metadata": {},
   "source": [
    "We nowthat we ahve the functions that allows to the parameters and statistics of each portfolio, we create a function to finx the portfolio with the maximum Sharpe Ratio. "
   ]
  },
  {
   "cell_type": "code",
   "execution_count": 40,
   "id": "49bb113d",
   "metadata": {},
   "outputs": [],
   "source": [
    "import scipy.optimize as sco\n",
    "\n",
    "def findMaxSharpeRatioPortfolio(meanReturns, covMatrix, riskFreeRate):\n",
    "    '''\n",
    "    Finds the portfolio of assets providing the maximum Sharpe Ratio\n",
    "\n",
    "    INPUT\n",
    "    meanReturns: mean values of each asset's returns\n",
    "    covMatrix: covariance of each asset in the portfolio\n",
    "    riskFreeRate: time value of money\n",
    "    '''\n",
    "    numAssets = len(meanReturns)\n",
    "    args = (meanReturns, covMatrix, riskFreeRate)\n",
    "    constraints = ({'type': 'eq', 'fun': lambda x: np.sum(x) - 1})\n",
    "    bounds = tuple( (0,1) for asset in range(numAssets))\n",
    "\n",
    "    opts = sco.minimize(negSharpeRatio, numAssets*[1./numAssets,], args=args,\n",
    "                        method='SLSQP', bounds=bounds, constraints=constraints)\n",
    "    \n",
    "    return opts\n"
   ]
  },
  {
   "cell_type": "code",
   "execution_count": 41,
   "id": "0e4f237d",
   "metadata": {},
   "outputs": [],
   "source": [
    "maxSharpe = findMaxSharpeRatioPortfolio(meanDailyReturns, covMatrix, riskFreeRate)"
   ]
  },
  {
   "cell_type": "markdown",
   "id": "2f9db5ff",
   "metadata": {},
   "source": [
    "And so the array of weights is is returned in *maxSharpe*"
   ]
  },
  {
   "cell_type": "code",
   "execution_count": 42,
   "id": "88b73e82",
   "metadata": {},
   "outputs": [
    {
     "data": {
      "text/plain": [
       "     fun: -0.21300645908554475\n",
       "     jac: array([-0.06256174, -0.06324579, -0.06296065, -0.06274492])\n",
       " message: 'Optimization terminated successfully'\n",
       "    nfev: 45\n",
       "     nit: 9\n",
       "    njev: 9\n",
       "  status: 0\n",
       " success: True\n",
       "       x: array([0.170439  , 0.01813788, 0.02739017, 0.78403295])"
      ]
     },
     "execution_count": 42,
     "metadata": {},
     "output_type": "execute_result"
    }
   ],
   "source": [
    "maxSharpe\n"
   ]
  },
  {
   "cell_type": "code",
   "execution_count": 43,
   "id": "6a4f59d6",
   "metadata": {},
   "outputs": [
    {
     "name": "stdout",
     "output_type": "stream",
     "text": [
      "1.0\n"
     ]
    }
   ],
   "source": [
    "print(maxSharpe['x'].sum())"
   ]
  },
  {
   "cell_type": "markdown",
   "id": "80c864ef",
   "metadata": {},
   "source": [
    "Now that we have the required weight, we caluclate the portfolio risk-return profile, using the 'calcPortfolioPerf' function."
   ]
  },
  {
   "cell_type": "code",
   "execution_count": 44,
   "id": "54878a1c",
   "metadata": {},
   "outputs": [],
   "source": [
    "weights = maxSharpe['x']\n",
    "meanReturns = np.sum( meanDailyReturns*weights )\n",
    "rp, sdp = calcPortfolioPerf(weights, meanReturns, covMatrix)"
   ]
  },
  {
   "cell_type": "markdown",
   "id": "f0d53e51",
   "metadata": {},
   "source": [
    "Then converting from daily to annual returns"
   ]
  },
  {
   "cell_type": "code",
   "execution_count": 45,
   "id": "2a7ce5a0",
   "metadata": {},
   "outputs": [],
   "source": [
    "rp =rp * numPeriodsAnnually\n",
    "sdp = sdp * np.sqrt(numPeriodsAnnually)"
   ]
  },
  {
   "cell_type": "markdown",
   "id": "a6074f7e",
   "metadata": {},
   "source": [
    "Which ring us the desired pair of the Portfolio Standard Deviation and Expected Return"
   ]
  },
  {
   "cell_type": "code",
   "execution_count": 51,
   "id": "8f0fe760",
   "metadata": {},
   "outputs": [
    {
     "name": "stdout",
     "output_type": "stream",
     "text": [
      "0.11883334033246769 0.11630964189877013\n"
     ]
    }
   ],
   "source": [
    "print(sdp, rp)"
   ]
  },
  {
   "cell_type": "markdown",
   "id": "e93be0fc",
   "metadata": {},
   "source": [
    "Graphin the point onto our portfolio collection we obtain the following"
   ]
  },
  {
   "cell_type": "code",
   "execution_count": 48,
   "id": "6dea3c1b",
   "metadata": {},
   "outputs": [
    {
     "data": {
      "image/png": "[encoded data removed]",
      "text/plain": [
       "<Figure size 432x288 with 2 Axes>"
      ]
     },
     "metadata": {
      "needs_background": "light"
     },
     "output_type": "display_data"
    }
   ],
   "source": [
    "plt.scatter(results[1,:], results[0,:], c=results[2,:], marker='o', cmap = 'viridis')\n",
    "plt.plot(sdp, rp, 'r*', markersize=15.0)\n",
    "\n",
    "plt.grid(True)\n",
    "plt.xlabel('Expected Volatility')\n",
    "plt.ylabel('Expected Return')\n",
    "plt.colorbar(label='Sharpe Ratio')\n",
    "plt.title('Portfolios of Many Assets')\n",
    "plt.tight_layout()\n",
    "plt.savefig('Monte Carlo Simulation for Portfolio', dpi=100)\n",
    "\n",
    "plt.show()"
   ]
  },
  {
   "cell_type": "code",
   "execution_count": 49,
   "id": "85ce41e3",
   "metadata": {},
   "outputs": [],
   "source": [
    "plt.show()"
   ]
  },
  {
   "cell_type": "code",
   "execution_count": null,
   "id": "b9ee4dee",
   "metadata": {},
   "outputs": [],
   "source": []
  }
 ],
 "metadata": {
  "kernelspec": {
   "display_name": "Python 3",
   "language": "python",
   "name": "python3"
  },
  "language_info": {
   "codemirror_mode": {
    "name": "ipython",
    "version": 3
   },
   "file_extension": ".py",
   "mimetype": "text/x-python",
   "name": "python",
   "nbconvert_exporter": "python",
   "pygments_lexer": "ipython3",
   "version": "3.9.4"
  }
 },
 "nbformat": 4,
 "nbformat_minor": 5
}
